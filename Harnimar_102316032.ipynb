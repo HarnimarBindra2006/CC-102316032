{
  "nbformat": 4,
  "nbformat_minor": 0,
  "metadata": {
    "colab": {
      "provenance": []
    },
    "kernelspec": {
      "name": "python3",
      "display_name": "Python 3"
    },
    "language_info": {
      "name": "python"
    }
  },
  "cells": [
    {
      "cell_type": "markdown",
      "source": [
        "\n",
        "Assingment 1.1: WAP to print your name three times"
      ],
      "metadata": {
        "id": "U7uFrvP0c3Bh"
      }
    },
    {
      "cell_type": "code",
      "source": [
        "for i in range(3):\n",
        "    print(\"Harnimarpreet singh\")"
      ],
      "metadata": {
        "colab": {
          "base_uri": "https://localhost:8080/"
        },
        "id": "nuNaj5tlcx_a",
        "outputId": "fde23a4b-c43a-4d21-c014-30a2fcd49411"
      },
      "execution_count": 26,
      "outputs": [
        {
          "output_type": "stream",
          "name": "stdout",
          "text": [
            "Harnimarpreet singh\n",
            "Harnimarpreet singh\n",
            "Harnimarpreet singh\n"
          ]
        }
      ]
    },
    {
      "cell_type": "markdown",
      "source": [
        "Assingment 2.1: WAP to add three numbers and print the result."
      ],
      "metadata": {
        "id": "cqqJ63vtdNn2"
      }
    },
    {
      "cell_type": "code",
      "source": [
        "a = 10\n",
        "b = 220\n",
        "c = 30\n",
        "d = a+b+c\n",
        "print(f\"{a}+{b}+{c} --> {d}\")"
      ],
      "metadata": {
        "colab": {
          "base_uri": "https://localhost:8080/"
        },
        "id": "0bFQ5BFJdYUg",
        "outputId": "8b83c71e-f9ad-4f96-b01d-ac9dff0157e4"
      },
      "execution_count": null,
      "outputs": [
        {
          "output_type": "stream",
          "name": "stdout",
          "text": [
            "10+220+30 --> 260\n"
          ]
        }
      ]
    },
    {
      "cell_type": "markdown",
      "source": [
        "Assingment 2.2: WAP to concatinate three strings and print the result."
      ],
      "metadata": {
        "id": "EK6IpLGCeCk_"
      }
    },
    {
      "cell_type": "code",
      "source": [
        "hello = \"Hello \"\n",
        "a = \"hi\"\n",
        "b = \" good bye\"\n",
        "final = hello+a+b\n",
        "print (f\"{hello}+{a} +{b} --> {final}\")"
      ],
      "metadata": {
        "colab": {
          "base_uri": "https://localhost:8080/"
        },
        "id": "A_SOmmpteHID",
        "outputId": "ce43e859-a7e7-4c53-fbfa-91a19f8924c4"
      },
      "execution_count": 27,
      "outputs": [
        {
          "output_type": "stream",
          "name": "stdout",
          "text": [
            "Hello +hi + good bye --> Hello hi good bye\n"
          ]
        }
      ]
    },
    {
      "cell_type": "markdown",
      "source": [
        "Assingment 4.1: WAP to print the table of 7, 9."
      ],
      "metadata": {
        "id": "Iv888ZwHeR_Z"
      }
    },
    {
      "cell_type": "code",
      "source": [
        "for i in range(11):\n",
        "    print(f\"7 X {i} = {7*i}\")"
      ],
      "metadata": {
        "colab": {
          "base_uri": "https://localhost:8080/"
        },
        "id": "DGbiD_XweVIr",
        "outputId": "bdad981f-dfcf-4424-809e-74885c7b1bf8"
      },
      "execution_count": null,
      "outputs": [
        {
          "output_type": "stream",
          "name": "stdout",
          "text": [
            "7 X 0 = 0\n",
            "7 X 1 = 7\n",
            "7 X 2 = 14\n",
            "7 X 3 = 21\n",
            "7 X 4 = 28\n",
            "7 X 5 = 35\n",
            "7 X 6 = 42\n",
            "7 X 7 = 49\n",
            "7 X 8 = 56\n",
            "7 X 9 = 63\n",
            "7 X 10 = 70\n"
          ]
        }
      ]
    },
    {
      "cell_type": "code",
      "source": [
        "for i in range(11):\n",
        "    print(f\"9 X {i} = {9*i}\")\n"
      ],
      "metadata": {
        "colab": {
          "base_uri": "https://localhost:8080/"
        },
        "id": "O3nErmY6eaj4",
        "outputId": "8601315f-59c1-4eba-c26e-3669ba9aa968"
      },
      "execution_count": 28,
      "outputs": [
        {
          "output_type": "stream",
          "name": "stdout",
          "text": [
            "9 X 0 = 0\n",
            "9 X 1 = 9\n",
            "9 X 2 = 18\n",
            "9 X 3 = 27\n",
            "9 X 4 = 36\n",
            "9 X 5 = 45\n",
            "9 X 6 = 54\n",
            "9 X 7 = 63\n",
            "9 X 8 = 72\n",
            "9 X 9 = 81\n",
            "9 X 10 = 90\n"
          ]
        }
      ]
    },
    {
      "cell_type": "markdown",
      "source": [
        "Assingment 4.2: WAP to print the table of n and n is given by user."
      ],
      "metadata": {
        "id": "AtWmq4qCehAv"
      }
    },
    {
      "cell_type": "code",
      "source": [
        "n = int(input(\"Enter the number \"))\n",
        "for i in range(11):\n",
        "    print(f\"{n} X {i} = {n*i}\")"
      ],
      "metadata": {
        "colab": {
          "base_uri": "https://localhost:8080/"
        },
        "id": "9Q8CzcKSeidt",
        "outputId": "74694e00-4020-467a-8f6c-43ccf9f22dc7"
      },
      "execution_count": null,
      "outputs": [
        {
          "output_type": "stream",
          "name": "stdout",
          "text": [
            "Enter the number 15\n",
            "15 X 0 = 0\n",
            "15 X 1 = 15\n",
            "15 X 2 = 30\n",
            "15 X 3 = 45\n",
            "15 X 4 = 60\n",
            "15 X 5 = 75\n",
            "15 X 6 = 90\n",
            "15 X 7 = 105\n",
            "15 X 8 = 120\n",
            "15 X 9 = 135\n",
            "15 X 10 = 150\n"
          ]
        }
      ]
    },
    {
      "cell_type": "markdown",
      "source": [
        "Assingment 4.3: WAP to add all the numbers from 1 to n and n is given by user.\n"
      ],
      "metadata": {
        "id": "kKljJvoIesFm"
      }
    },
    {
      "cell_type": "code",
      "source": [
        "n = int(input(\"Enter the number \"))\n",
        "result = n*(n+1)/2\n",
        "print(result)"
      ],
      "metadata": {
        "colab": {
          "base_uri": "https://localhost:8080/"
        },
        "id": "tHLt2KJletBv",
        "outputId": "a5c15b81-956f-47c0-b73d-ccb7a9efb7d9"
      },
      "execution_count": 29,
      "outputs": [
        {
          "output_type": "stream",
          "name": "stdout",
          "text": [
            "Enter the number 22\n",
            "253.0\n"
          ]
        }
      ]
    },
    {
      "cell_type": "markdown",
      "source": [
        "Assingment 5.1: WAP to find max amoung three numbers and input from user."
      ],
      "metadata": {
        "id": "ijfyIlmle3RL"
      }
    },
    {
      "cell_type": "code",
      "source": [
        "list1 = []\n",
        "for i in range(3):\n",
        "    list1.append(int(input(f\"Enter the {i}th number \")))\n",
        "print(list1)\n",
        "print(max(list1))"
      ],
      "metadata": {
        "colab": {
          "base_uri": "https://localhost:8080/"
        },
        "id": "_KlKOYZse64H",
        "outputId": "c2d221f7-da8c-447d-e491-365b0216c270"
      },
      "execution_count": 31,
      "outputs": [
        {
          "output_type": "stream",
          "name": "stdout",
          "text": [
            "Enter the 0th number 55\n",
            "Enter the 1th number 88\n",
            "Enter the 2th number 55\n",
            "[55, 88, 55]\n",
            "88\n"
          ]
        }
      ]
    },
    {
      "cell_type": "markdown",
      "source": [
        "Assingment 5.2: WAP to add all numbers divisible by 7 and 9 from 1 to n and n is given by the user."
      ],
      "metadata": {
        "id": "4vmMw4m1fBwd"
      }
    },
    {
      "cell_type": "code",
      "source": [
        "n = int(input(\"Enter a No: \"))\n",
        "sum=0\n",
        "for i in range(n+1):\n",
        "    if(i%7==0 or i%9==0):\n",
        "        sum+=i\n",
        "print(sum)"
      ],
      "metadata": {
        "colab": {
          "base_uri": "https://localhost:8080/"
        },
        "id": "BHEwbmJufFHV",
        "outputId": "4cff4906-8b11-42cb-955b-4d2125b035d5"
      },
      "execution_count": 32,
      "outputs": [
        {
          "output_type": "stream",
          "name": "stdout",
          "text": [
            "Enter a No: 65\n",
            "504\n"
          ]
        }
      ]
    },
    {
      "cell_type": "markdown",
      "source": [
        "Assingment 5.3: WAP to add all prime numbers from 1 to n and n is given by the user."
      ],
      "metadata": {
        "id": "EhPruw0LfMRw"
      }
    },
    {
      "cell_type": "code",
      "source": [
        "def oddAdder(n):\n",
        "    sum=0\n",
        "    for i in range(2, n+1):\n",
        "        flag=0\n",
        "        for div in range(2, int(i**0.5)+1):\n",
        "            if(i%div==0):\n",
        "                flag=1\n",
        "                break\n",
        "        if(flag==0):\n",
        "            sum+=i\n",
        "    return sum\n",
        "n = int(input(\"Enter a No: \"))\n",
        "result = oddAdder(n)\n",
        "print(result)"
      ],
      "metadata": {
        "colab": {
          "base_uri": "https://localhost:8080/"
        },
        "id": "JoZbEeuMfPDK",
        "outputId": "17182c0f-adbc-4318-df9d-5420d59ac1a0"
      },
      "execution_count": 33,
      "outputs": [
        {
          "output_type": "stream",
          "name": "stdout",
          "text": [
            "Enter a No: 256\n",
            "6081\n"
          ]
        }
      ]
    },
    {
      "cell_type": "markdown",
      "source": [
        "Assingment 6.1: WAP using function that add all odd numbers from 1 to n, n is given by the user."
      ],
      "metadata": {
        "id": "W1zDkjbMgIoO"
      }
    },
    {
      "cell_type": "code",
      "source": [
        "def oddAdder(n):\n",
        "    sum=0\n",
        "    for i in range(n+1):\n",
        "        if(i%2!=0):\n",
        "            sum+=i\n",
        "    return sum\n",
        "\n",
        "n = int(input(\"Enter the number n : \"))\n",
        "result = oddAdder(n)\n",
        "print(result)"
      ],
      "metadata": {
        "colab": {
          "base_uri": "https://localhost:8080/"
        },
        "id": "B5CggzesgMgg",
        "outputId": "a2967924-ea14-4bcc-b31b-44b749967c0b"
      },
      "execution_count": 34,
      "outputs": [
        {
          "output_type": "stream",
          "name": "stdout",
          "text": [
            "Enter the number n : 236985\n",
            "14040591049\n"
          ]
        }
      ]
    },
    {
      "cell_type": "markdown",
      "source": [
        "Assingment 6.2: WAP using function that add all prime numbers from 1 to n, n given by the user."
      ],
      "metadata": {
        "id": "K82Mq-GXgRra"
      }
    },
    {
      "cell_type": "code",
      "source": [
        "def oddAdder(n):\n",
        "    sum=0\n",
        "    for i in range(2, n+1):\n",
        "        flag=0\n",
        "        for div in range(2, int(i**0.5)+1):\n",
        "            if(i%div==0):\n",
        "                flag=1\n",
        "                break\n",
        "        if(flag==0):\n",
        "            sum+=i\n",
        "    return sum\n",
        "n = int(input(\"Enter the number n : \"))\n",
        "result = oddAdder(n)\n",
        "print(result)"
      ],
      "metadata": {
        "colab": {
          "base_uri": "https://localhost:8080/"
        },
        "id": "bVktV-ZBgf-Y",
        "outputId": "269c0a48-a399-4337-d55d-5f125e28f34e"
      },
      "execution_count": 35,
      "outputs": [
        {
          "output_type": "stream",
          "name": "stdout",
          "text": [
            "Enter the number n : 235478\n",
            "2336739334\n"
          ]
        }
      ]
    }
  ]
}